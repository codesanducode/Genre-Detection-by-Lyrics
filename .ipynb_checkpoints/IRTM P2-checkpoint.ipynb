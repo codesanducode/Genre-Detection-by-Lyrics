{
 "cells": [
  {
   "cell_type": "code",
   "execution_count": 107,
   "metadata": {},
   "outputs": [],
   "source": [
    "## read data\n",
    "\n",
    "import pandas as pd\n",
    "import numpy as np\n",
    "df = pd.read_csv(\"Lyrics-Genre-Train.csv\", names = ['song','year','artist','genre','lyrics','id'], header=0)"
   ]
  },
  {
   "cell_type": "code",
   "execution_count": 108,
   "metadata": {},
   "outputs": [],
   "source": [
    "## labels to categrorical\n",
    "\n",
    "from sklearn.preprocessing import LabelEncoder\n",
    "from tensorflow.keras.utils import to_categorical\n",
    "\n",
    "text_labels = df['genre'].to_numpy()\n",
    "unique_labels = np.unique(text_labels)\n",
    "def encode_labels(labels):\n",
    "    enc = LabelEncoder()\n",
    "    enc.fit(unique_labels)\n",
    "    return to_categorical(enc.transform(labels))\n",
    "\n",
    "y = encode_labels(text_labels)\n"
   ]
  },
  {
   "cell_type": "code",
   "execution_count": 109,
   "metadata": {},
   "outputs": [],
   "source": [
    "# read lyrics\n",
    "\n",
    "lyrics = df['lyrics'].astype('U').to_numpy()"
   ]
  },
  {
   "cell_type": "code",
   "execution_count": 110,
   "metadata": {},
   "outputs": [],
   "source": [
    "## encode with hashing vectorizer\n",
    "from sklearn.feature_extraction.text import HashingVectorizer\n",
    "n_features = 2**13\n",
    "\n",
    "vectorizer = HashingVectorizer(n_features=n_features, ngram_range=(1,2), alternate_sign=False)\n",
    "X = vectorizer.fit_transform(lyrics).toarray()"
   ]
  },
  {
   "cell_type": "code",
   "execution_count": 111,
   "metadata": {},
   "outputs": [],
   "source": [
    "## train validation split\n",
    "from sklearn.model_selection import train_test_split\n",
    "X_train, X_validation, y_train, y_validation = train_test_split(X,y, train_size=0.66)"
   ]
  },
  {
   "cell_type": "code",
   "execution_count": 112,
   "metadata": {},
   "outputs": [
    {
     "name": "stdout",
     "output_type": "stream",
     "text": [
      "Model: \"sequential_6\"\n",
      "_________________________________________________________________\n",
      "Layer (type)                 Output Shape              Param #   \n",
      "=================================================================\n",
      "dense_17 (Dense)             (None, 80)                655440    \n",
      "_________________________________________________________________\n",
      "dropout_11 (Dropout)         (None, 80)                0         \n",
      "_________________________________________________________________\n",
      "dense_18 (Dense)             (None, 40)                3240      \n",
      "_________________________________________________________________\n",
      "dropout_12 (Dropout)         (None, 40)                0         \n",
      "_________________________________________________________________\n",
      "dense_19 (Dense)             (None, 20)                820       \n",
      "_________________________________________________________________\n",
      "dropout_13 (Dropout)         (None, 20)                0         \n",
      "_________________________________________________________________\n",
      "dense_20 (Dense)             (None, 10)                210       \n",
      "=================================================================\n",
      "Total params: 659,710\n",
      "Trainable params: 659,710\n",
      "Non-trainable params: 0\n",
      "_________________________________________________________________\n"
     ]
    }
   ],
   "source": [
    "## model\n",
    "\n",
    "import tensorflow as tf\n",
    "from tensorflow import keras\n",
    "from tensorflow.keras import Sequential\n",
    "from keras.layers import Dense, Dropout, BatchNormalization, LSTM, Bidirectional\n",
    "\n",
    "def build_model():\n",
    "    model = Sequential()\n",
    "    model.add(Dense(80, activation='relu', input_dim=n_features))\n",
    "    model.add(Dropout(0.4))\n",
    "    model.add(Dense(40, activation='relu'))\n",
    "    model.add(Dropout(0.4))\n",
    "    model.add(Dense(20, activation='relu'))\n",
    "    model.add(Dropout(0.2))\n",
    "    model.add(Dense(10, activation='softmax'))\n",
    "    return model\n",
    "\n",
    "model = build_model()\n",
    "model.summary()\n",
    "\n",
    "model.compile(\n",
    "    loss=keras.losses.CategoricalCrossentropy(),\n",
    "    optimizer=keras.optimizers.Adam(),\n",
    "    metrics=[\"accuracy\"],\n",
    ")"
   ]
  },
  {
   "cell_type": "code",
   "execution_count": 113,
   "metadata": {},
   "outputs": [
    {
     "name": "stdout",
     "output_type": "stream",
     "text": [
      "Epoch 1/15\n",
      "191/191 [==============================] - 3s 13ms/step - loss: 2.2031 - accuracy: 0.1991 - val_loss: 2.0412 - val_accuracy: 0.2691\n",
      "Epoch 2/15\n",
      "191/191 [==============================] - 2s 11ms/step - loss: 1.9676 - accuracy: 0.3057 - val_loss: 1.9203 - val_accuracy: 0.3331\n",
      "Epoch 3/15\n",
      "191/191 [==============================] - 2s 10ms/step - loss: 1.7791 - accuracy: 0.3891 - val_loss: 1.8492 - val_accuracy: 0.3562\n",
      "Epoch 4/15\n",
      "191/191 [==============================] - 2s 12ms/step - loss: 1.5819 - accuracy: 0.4569 - val_loss: 1.8724 - val_accuracy: 0.3557\n",
      "Epoch 5/15\n",
      "191/191 [==============================] - 2s 12ms/step - loss: 1.4013 - accuracy: 0.5224 - val_loss: 1.9644 - val_accuracy: 0.3490\n",
      "Epoch 6/15\n",
      "191/191 [==============================] - 2s 11ms/step - loss: 1.2344 - accuracy: 0.5782 - val_loss: 2.0707 - val_accuracy: 0.3506\n",
      "Epoch 7/15\n",
      "191/191 [==============================] - 2s 10ms/step - loss: 1.0814 - accuracy: 0.6256 - val_loss: 2.2305 - val_accuracy: 0.3403\n",
      "Epoch 8/15\n",
      "191/191 [==============================] - 2s 11ms/step - loss: 0.9298 - accuracy: 0.6713 - val_loss: 2.4258 - val_accuracy: 0.3446\n",
      "Epoch 9/15\n",
      "191/191 [==============================] - 2s 11ms/step - loss: 0.8290 - accuracy: 0.7088 - val_loss: 2.6834 - val_accuracy: 0.3344\n",
      "Epoch 10/15\n",
      "191/191 [==============================] - 2s 11ms/step - loss: 0.7305 - accuracy: 0.7442 - val_loss: 2.8439 - val_accuracy: 0.3274\n",
      "Epoch 11/15\n",
      "191/191 [==============================] - 2s 11ms/step - loss: 0.6631 - accuracy: 0.7649 - val_loss: 3.0346 - val_accuracy: 0.3298\n",
      "Epoch 12/15\n",
      "191/191 [==============================] - 2s 10ms/step - loss: 0.6000 - accuracy: 0.7910 - val_loss: 3.1863 - val_accuracy: 0.3263\n",
      "Epoch 13/15\n",
      "191/191 [==============================] - 2s 11ms/step - loss: 0.5459 - accuracy: 0.8122 - val_loss: 3.3419 - val_accuracy: 0.3269\n",
      "Epoch 14/15\n",
      "191/191 [==============================] - 2s 11ms/step - loss: 0.5108 - accuracy: 0.8214 - val_loss: 3.5210 - val_accuracy: 0.3279\n",
      "Epoch 15/15\n",
      "191/191 [==============================] - 2s 10ms/step - loss: 0.4703 - accuracy: 0.8363 - val_loss: 3.6681 - val_accuracy: 0.3242\n"
     ]
    }
   ],
   "source": [
    "## train model\n",
    "\n",
    "history = model.fit(X_train, y_train, validation_data=(X_validation,y_validation), epochs=15, batch_size=64, shuffle=True)"
   ]
  },
  {
   "cell_type": "code",
   "execution_count": 114,
   "metadata": {},
   "outputs": [
    {
     "name": "stdout",
     "output_type": "stream",
     "text": [
      "accuracy: 32.423\n",
      "labels: ['Country' 'Electronic' 'Folk' 'Hip-Hop' 'Indie' 'Jazz' 'Metal' 'Pop'\n",
      " 'R&B' 'Rock']\n",
      "confusion matrix:\n",
      " [[206  50  46  19  52  87  12  54  31  97]\n",
      " [ 22  97  34  38  32  30  62  78  48 102]\n",
      " [ 50  34  83  15  25  41  38  24  17  82]\n",
      " [ 18  20   8 528  12  20   7  43  33  41]\n",
      " [ 42  37  35  11  64  26  21  36  28  95]\n",
      " [ 78  35  35  18  20 150   8  65  42  74]\n",
      " [  7  49  28  19  16  11 383  17   4  91]\n",
      " [ 60  96  32  61  51  87  43 170  77 207]\n",
      " [ 45  44  11  32  26  53  19  61  44  67]\n",
      " [119 113  76  50  81  90 108 127  48 316]]\n"
     ]
    },
    {
     "data": {
      "image/png": "[encoded data removed]",
      "text/plain": [
       "<Figure size 432x288 with 2 Axes>"
      ]
     },
     "metadata": {
      "needs_background": "light"
     },
     "output_type": "display_data"
    }
   ],
   "source": [
    "## print acc graphs and confusion matrix\n",
    "import matplotlib.pyplot as plt\n",
    "from sklearn.metrics import confusion_matrix\n",
    "\n",
    "def summarize_diagnostics(history):\n",
    "    plt.subplot(211)\n",
    "    plt.title('Cross Entropy Loss')\n",
    "    plt.plot(history.history['loss'], color='blue', label='train')\n",
    "    plt.plot(history.history['val_loss'], color='orange', label='test')\n",
    "    \n",
    "    plt.subplot(212)\n",
    "    plt.title('Classification Accuracy')\n",
    "    plt.plot(history.history['accuracy'], color='blue', label='train')\n",
    "    plt.plot(history.history['val_accuracy'], color='orange', label='test')\n",
    "\n",
    "\n",
    "plt.show()\n",
    "\n",
    "_, acc = model.evaluate(X_validation, y_validation, verbose=0)\n",
    "print('accuracy: %.3f' % (acc * 100.0))\n",
    "\n",
    "predictions = np.argmax(model.predict(X_validation), axis=1)\n",
    "ground_truth = np.argmax(y_validation, axis=1)\n",
    "matrix = confusion_matrix(ground_truth, predictions)\n",
    "print('labels:',unique_labels)\n",
    "print('confusion matrix:\\n',matrix)\n",
    "\n",
    "summarize_diagnostics(history)"
   ]
  },
  {
   "cell_type": "code",
   "execution_count": 116,
   "metadata": {},
   "outputs": [
    {
     "name": "stdout",
     "output_type": "stream",
     "text": [
      "Metal\n",
      "I am a night in to the darkness, only soul lost with me, I walk throught the\n",
      "night in to the forest and everything stays behind me, i`m waiting for another chance...it\n",
      "calls.\n",
      "I capture my eyes, I wait for the end, I see the holograms of today, only soul with me I\n",
      "carry my shadow, and it call`s my name...my name.\n",
      "I see the light, my mind can`t touch it, emperors name and the final thoughts, hearing\n",
      "whispering from my soul, i`m so cold inside but still it`s a truth...whispering inside of\n",
      "me.\n",
      "I touch my eyes, i`m dreaming for end, and enchanting woods is only a dream, I feel the\n",
      "sun my eyes will burn, for my soul I see anything.\n"
     ]
    }
   ],
   "source": [
    "number = 0\n",
    "song = lyrics[number]\n",
    "print(text_labels[number])\n",
    "for i in song.split('\\n'):\n",
    "    print(i)"
   ]
  },
  {
   "cell_type": "code",
   "execution_count": 117,
   "metadata": {},
   "outputs": [
    {
     "data": {
      "text/html": [
       "<div>\n",
       "<style scoped>\n",
       "    .dataframe tbody tr th:only-of-type {\n",
       "        vertical-align: middle;\n",
       "    }\n",
       "\n",
       "    .dataframe tbody tr th {\n",
       "        vertical-align: top;\n",
       "    }\n",
       "\n",
       "    .dataframe thead th {\n",
       "        text-align: right;\n",
       "    }\n",
       "</style>\n",
       "<table border=\"1\" class=\"dataframe\">\n",
       "  <thead>\n",
       "    <tr style=\"text-align: right;\">\n",
       "      <th></th>\n",
       "      <th>song</th>\n",
       "      <th>year</th>\n",
       "      <th>artist</th>\n",
       "      <th>genre</th>\n",
       "      <th>lyrics</th>\n",
       "      <th>id</th>\n",
       "      <th>negative</th>\n",
       "      <th>neutral</th>\n",
       "      <th>positive</th>\n",
       "      <th>compound</th>\n",
       "    </tr>\n",
       "  </thead>\n",
       "  <tbody>\n",
       "    <tr>\n",
       "      <th>0</th>\n",
       "      <td>forest-enthroned</td>\n",
       "      <td>2007</td>\n",
       "      <td>catamenia</td>\n",
       "      <td>Metal</td>\n",
       "      <td>I am a night in to the darkness, only soul los...</td>\n",
       "      <td>18096</td>\n",
       "      <td>0.028</td>\n",
       "      <td>0.950</td>\n",
       "      <td>0.022</td>\n",
       "      <td>0.0900</td>\n",
       "    </tr>\n",
       "    <tr>\n",
       "      <th>1</th>\n",
       "      <td>superhero</td>\n",
       "      <td>2010</td>\n",
       "      <td>aaron-smith</td>\n",
       "      <td>Hip-Hop</td>\n",
       "      <td>Yeah\\nSometimes, i just wanna fly away.\\nThey ...</td>\n",
       "      <td>22724</td>\n",
       "      <td>0.038</td>\n",
       "      <td>0.713</td>\n",
       "      <td>0.250</td>\n",
       "      <td>0.9990</td>\n",
       "    </tr>\n",
       "    <tr>\n",
       "      <th>2</th>\n",
       "      <td>chicago-now</td>\n",
       "      <td>2007</td>\n",
       "      <td>fall</td>\n",
       "      <td>Metal</td>\n",
       "      <td>Do you work hard?\\nDo you work hard?\\nYou don'...</td>\n",
       "      <td>24760</td>\n",
       "      <td>0.119</td>\n",
       "      <td>0.855</td>\n",
       "      <td>0.026</td>\n",
       "      <td>-0.6517</td>\n",
       "    </tr>\n",
       "    <tr>\n",
       "      <th>3</th>\n",
       "      <td>the-secret</td>\n",
       "      <td>2007</td>\n",
       "      <td>geto-boys</td>\n",
       "      <td>Hip-Hop</td>\n",
       "      <td>You know what? I'm destined to be the last man...</td>\n",
       "      <td>24176</td>\n",
       "      <td>0.103</td>\n",
       "      <td>0.813</td>\n",
       "      <td>0.084</td>\n",
       "      <td>-0.9021</td>\n",
       "    </tr>\n",
       "    <tr>\n",
       "      <th>4</th>\n",
       "      <td>be-the-lake</td>\n",
       "      <td>2011</td>\n",
       "      <td>brad-paisley</td>\n",
       "      <td>Country</td>\n",
       "      <td>There ain't nothing that I would rather see\\nT...</td>\n",
       "      <td>17260</td>\n",
       "      <td>0.068</td>\n",
       "      <td>0.727</td>\n",
       "      <td>0.205</td>\n",
       "      <td>0.9845</td>\n",
       "    </tr>\n",
       "  </tbody>\n",
       "</table>\n",
       "</div>"
      ],
      "text/plain": [
       "               song  year        artist    genre  \\\n",
       "0  forest-enthroned  2007     catamenia    Metal   \n",
       "1         superhero  2010   aaron-smith  Hip-Hop   \n",
       "2       chicago-now  2007          fall    Metal   \n",
       "3        the-secret  2007     geto-boys  Hip-Hop   \n",
       "4       be-the-lake  2011  brad-paisley  Country   \n",
       "\n",
       "                                              lyrics     id  negative  \\\n",
       "0  I am a night in to the darkness, only soul los...  18096     0.028   \n",
       "1  Yeah\\nSometimes, i just wanna fly away.\\nThey ...  22724     0.038   \n",
       "2  Do you work hard?\\nDo you work hard?\\nYou don'...  24760     0.119   \n",
       "3  You know what? I'm destined to be the last man...  24176     0.103   \n",
       "4  There ain't nothing that I would rather see\\nT...  17260     0.068   \n",
       "\n",
       "   neutral  positive  compound  \n",
       "0    0.950     0.022    0.0900  \n",
       "1    0.713     0.250    0.9990  \n",
       "2    0.855     0.026   -0.6517  \n",
       "3    0.813     0.084   -0.9021  \n",
       "4    0.727     0.205    0.9845  "
      ]
     },
     "execution_count": 117,
     "metadata": {},
     "output_type": "execute_result"
    }
   ],
   "source": [
    "from nltk.sentiment.vader import SentimentIntensityAnalyzer\n",
    "#Create lists to store the different scores for each word\n",
    "negative = []\n",
    "neutral = []\n",
    "positive = []\n",
    "compound = []\n",
    "sentiments = []\n",
    "#Initialize the model\n",
    "sid = SentimentIntensityAnalyzer()\n",
    "#Iterate for each row of lyrics and append the scores\n",
    "for i in df.index:\n",
    "    scores = sid.polarity_scores(df['lyrics'].iloc[i])\n",
    "    negative.append(scores['neg'])\n",
    "    neutral.append(scores['neu'])\n",
    "    positive.append(scores['pos'])\n",
    "    compound.append(scores['compound'])\n",
    "    sentiments.append([scores['neg'],scores['neu'],scores['pos'],scores['compound']])\n",
    "#Create 4 columns to the main data frame  for each score\n",
    "df['negative'] = negative\n",
    "df['neutral'] = neutral\n",
    "df['positive'] = positive\n",
    "df['compound'] = compound\n",
    "df.head()\n"
   ]
  },
  {
   "cell_type": "code",
   "execution_count": 118,
   "metadata": {},
   "outputs": [],
   "source": [
    "# normalize sentiments lol\n",
    "feature_vector = (np.array(sentiments)+1)/2"
   ]
  },
  {
   "cell_type": "code",
   "execution_count": 119,
   "metadata": {},
   "outputs": [],
   "source": [
    "X_train, X_validation, y_train, y_validation = train_test_split(feature_vector,y, train_size=0.66)"
   ]
  },
  {
   "cell_type": "code",
   "execution_count": 123,
   "metadata": {},
   "outputs": [
    {
     "name": "stdout",
     "output_type": "stream",
     "text": [
      "Model: \"sequential_8\"\n",
      "_________________________________________________________________\n",
      "Layer (type)                 Output Shape              Param #   \n",
      "=================================================================\n",
      "dense_24 (Dense)             (None, 256)               1280      \n",
      "_________________________________________________________________\n",
      "dropout_16 (Dropout)         (None, 256)               0         \n",
      "_________________________________________________________________\n",
      "dense_25 (Dense)             (None, 64)                16448     \n",
      "_________________________________________________________________\n",
      "dropout_17 (Dropout)         (None, 64)                0         \n",
      "_________________________________________________________________\n",
      "dense_26 (Dense)             (None, 10)                650       \n",
      "=================================================================\n",
      "Total params: 18,378\n",
      "Trainable params: 18,378\n",
      "Non-trainable params: 0\n",
      "_________________________________________________________________\n"
     ]
    }
   ],
   "source": [
    "def build_model():\n",
    "    model = Sequential()\n",
    "    model.add(Dense(256, activation='relu', input_dim=4))\n",
    "    model.add(Dropout(0.2))\n",
    "    \n",
    "    model.add(Dense(64, activation='relu'))\n",
    "    \n",
    "    model.add(Dropout(0.2))\n",
    "    model.add(Dense(10, activation='softmax'))\n",
    "    return model\n",
    "\n",
    "model = build_model()\n",
    "# model.summary()\n",
    "\n",
    "model.compile(\n",
    "    loss=keras.losses.CategoricalCrossentropy(),\n",
    "    optimizer=keras.optimizers.Adam(),\n",
    "    metrics=[\"accuracy\"],\n",
    ")"
   ]
  },
  {
   "cell_type": "code",
   "execution_count": 127,
   "metadata": {},
   "outputs": [],
   "source": [
    "## train model\n",
    "\n",
    "history = model.fit(X_train, y_train, validation_data=(X_validation,y_validation), epochs=30, batch_size=64, shuffle=True, verbose=0)"
   ]
  },
  {
   "cell_type": "code",
   "execution_count": 276,
   "metadata": {},
   "outputs": [
    {
     "name": "stdout",
     "output_type": "stream",
     "text": [
      "accuracy: 24.797\n",
      "labels: ['Country' 'Electronic' 'Folk' 'Hip-Hop' 'Indie' 'Jazz' 'Metal' 'Pop'\n",
      " 'R&B' 'Rock']\n",
      "confusion matrix:\n",
      " [[  0   0   0  47   0  73  24  99   0 413]\n",
      " [  0   0   0  76   0  38  41  66   0 327]\n",
      " [  0   0   0  49   0  30  27  49   0 232]\n",
      " [  0   0   0 452   0  13  37  83   0 178]\n",
      " [  0   0   0  57   0  22  26  37   0 277]\n",
      " [  0   0   0  33   0 106  26  59   0 297]\n",
      " [  0   0   0 133   0   9 173  22   0 286]\n",
      " [  0   0   0 117   0 108  53 174   0 469]\n",
      " [  0   0   0  63   0  49  31  67   0 194]\n",
      " [  0   0   0 139   0  60  84 114   0 656]]\n"
     ]
    },
    {
     "data": {
      "image/png": "[encoded data removed]",
      "text/plain": [
       "<Figure size 432x288 with 2 Axes>"
      ]
     },
     "metadata": {
      "needs_background": "light"
     },
     "output_type": "display_data"
    }
   ],
   "source": [
    "## print acc graphs and confusion matrix\n",
    "\n",
    "plt.show()\n",
    "\n",
    "_, acc = model.evaluate(X_validation, y_validation, verbose=0)\n",
    "print('accuracy: %.3f' % (acc * 100.0))\n",
    "\n",
    "predictions = np.argmax(model.predict(X_validation), axis=1)\n",
    "ground_truth = np.argmax(y_validation, axis=1)\n",
    "matrix = confusion_matrix(ground_truth, predictions)\n",
    "print('labels:',unique_labels)\n",
    "print('confusion matrix:\\n',matrix)\n",
    "\n",
    "summarize_diagnostics(history)"
   ]
  },
  {
   "cell_type": "code",
   "execution_count": 129,
   "metadata": {},
   "outputs": [],
   "source": [
    "# pure sentiment analysis doesnt work. just like irl"
   ]
  },
  {
   "cell_type": "code",
   "execution_count": 208,
   "metadata": {},
   "outputs": [],
   "source": [
    "## tokenize and encode maybe works\n",
    "import string\n",
    "sentences = [i.translate(str.maketrans(string.punctuation, ' '*len(string.punctuation))) for i in lyrics]\n",
    "tokens = [nltk.word_tokenize(i) for i in sentences]"
   ]
  },
  {
   "cell_type": "code",
   "execution_count": 221,
   "metadata": {},
   "outputs": [
    {
     "name": "stdout",
     "output_type": "stream",
     "text": [
      "8 259.65910441311513 212 1952\n"
     ]
    }
   ],
   "source": [
    "import statistics\n",
    "lengths = [len(i) for i in tokens]\n",
    "print(min(lengths),sum(lengths)/len(lengths),statistics.median(lengths),max(lengths))"
   ]
  },
  {
   "cell_type": "code",
   "execution_count": 260,
   "metadata": {},
   "outputs": [
    {
     "name": "stdout",
     "output_type": "stream",
     "text": [
      "18513\n"
     ]
    }
   ],
   "source": [
    "print(len(lengths))"
   ]
  },
  {
   "cell_type": "code",
   "execution_count": 296,
   "metadata": {},
   "outputs": [],
   "source": [
    "df['lengths'] = lengths\n",
    "number = 2000\n",
    "country = np.zeros(number)\n",
    "electronic = np.zeros(number)\n",
    "folk = np.zeros(number)\n",
    "hiphop = np.zeros(number)\n",
    "indie = np.zeros(number)\n",
    "jazz = np.zeros(number)\n",
    "metal = np.zeros(number)\n",
    "pop = np.zeros(number)\n",
    "rnb = np.zeros(number)\n",
    "rock = np.zeros(number)\n",
    "for i in df.index:\n",
    "    if(df['genre'].iloc[i]=='Country'):\n",
    "        country[df['lengths'].iloc[i]]+=1\n",
    "    if(df['genre'].iloc[i]=='Electronic'):\n",
    "        electronic[df['lengths'].iloc[i]]+=1\n",
    "    if(df['genre'].iloc[i]=='Folk'):\n",
    "        folk[df['lengths'].iloc[i]]+=1\n",
    "    if(df['genre'].iloc[i]=='Hip-Hop'):\n",
    "        hiphop[df['lengths'].iloc[i]]+=1\n",
    "    if(df['genre'].iloc[i]=='Indie'):\n",
    "        indie[df['lengths'].iloc[i]]+=1\n",
    "    if(df['genre'].iloc[i]=='Jazz'):\n",
    "        jazz[df['lengths'].iloc[i]]+=1\n",
    "    if(df['genre'].iloc[i]=='Metal'):\n",
    "        metal[df['lengths'].iloc[i]]+=1\n",
    "    if(df['genre'].iloc[i]=='Pop'):\n",
    "        pop[df['lengths'].iloc[i]]+=1\n",
    "    if(df['genre'].iloc[i]=='R&B'):\n",
    "        rnb[df['lengths'].iloc[i]]+=1\n",
    "    if(df['genre'].iloc[i]=='Rock'):\n",
    "        rock[df['lengths'].iloc[i]]+=1"
   ]
  },
  {
   "cell_type": "code",
   "execution_count": 312,
   "metadata": {},
   "outputs": [
    {
     "data": {
      "image/png": "[encoded data removed]",
      "text/plain": [
       "<Figure size 432x288 with 3 Axes>"
      ]
     },
     "metadata": {
      "needs_background": "light"
     },
     "output_type": "display_data"
    },
    {
     "data": {
      "image/png": "[encoded data removed]",
      "text/plain": [
       "<Figure size 432x288 with 3 Axes>"
      ]
     },
     "metadata": {
      "needs_background": "light"
     },
     "output_type": "display_data"
    },
    {
     "data": {
      "image/png": "[encoded data removed]",
      "text/plain": [
       "<Figure size 432x288 with 3 Axes>"
      ]
     },
     "metadata": {
      "needs_background": "light"
     },
     "output_type": "display_data"
    },
    {
     "data": {
      "text/plain": [
       "[<matplotlib.lines.Line2D at 0x26f76d8f1f0>]"
      ]
     },
     "execution_count": 312,
     "metadata": {},
     "output_type": "execute_result"
    },
    {
     "data": {
      "image/png": "[encoded data removed]",
      "text/plain": [
       "<Figure size 432x288 with 1 Axes>"
      ]
     },
     "metadata": {
      "needs_background": "light"
     },
     "output_type": "display_data"
    }
   ],
   "source": [
    "plt.show()\n",
    "plt.subplot(311)\n",
    "plt.plot(country[0:1000], color='orange')\n",
    "plt.subplot(312)\n",
    "plt.plot(electronic[0:1000], color='red')\n",
    "plt.subplot(313)\n",
    "plt.plot(folk[0:1000], color ='blue')\n",
    "plt.show()\n",
    "plt.subplot(311)\n",
    "plt.plot(hiphop[0:1000], color ='teal')\n",
    "plt.subplot(312)\n",
    "plt.plot(indie[0:1000], color ='gray')\n",
    "plt.subplot(313)\n",
    "plt.plot(jazz[0:1000], color ='green')\n",
    "plt.show()\n",
    "plt.subplot(311)\n",
    "plt.plot(metal[0:1000], color ='magenta')\n",
    "plt.subplot(312)\n",
    "plt.plot(pop[0:1000], color ='purple')\n",
    "plt.subplot(313)\n",
    "plt.plot(rnb[0:1000], color ='black')\n",
    "plt.show()\n",
    "plt.subplot(311)\n",
    "plt.plot(rock[0:1000], color ='yellow')\n"
   ]
  },
  {
   "cell_type": "code",
   "execution_count": null,
   "metadata": {},
   "outputs": [],
   "source": []
  }
 ],
 "metadata": {
  "kernelspec": {
   "display_name": "Python 3",
   "language": "python",
   "name": "python3"
  },
  "language_info": {
   "codemirror_mode": {
    "name": "ipython",
    "version": 3
   },
   "file_extension": ".py",
   "mimetype": "text/x-python",
   "name": "python",
   "nbconvert_exporter": "python",
   "pygments_lexer": "ipython3",
   "version": "3.8.5"
  }
 },
 "nbformat": 4,
 "nbformat_minor": 4
}
